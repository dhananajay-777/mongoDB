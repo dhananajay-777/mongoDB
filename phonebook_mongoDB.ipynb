{
  "cells": [
    {
      "cell_type": "markdown",
      "metadata": {},
      "source": [
        "Phonebook MongoDB"
      ]
    },
    {
      "cell_type": "code",
      "execution_count": 58,
      "metadata": {
        "id": "CRq7-Sh64c-i"
      },
      "outputs": [],
      "source": [
        "import pymongo\n",
        "client = pymongo.MongoClient(\"mongodb://localhost:27017\")"
      ]
    },
    {
      "cell_type": "markdown",
      "metadata": {},
      "source": [
        "Accesing Database and collection"
      ]
    },
    {
      "cell_type": "code",
      "execution_count": 59,
      "metadata": {
        "id": "P7eMhAul6jrW"
      },
      "outputs": [
        {
          "data": {
            "text/plain": [
              "Collection(Database(MongoClient(host=['localhost:27017'], document_class=dict, tz_aware=False, connect=True), 'Project'), 'supermart')"
            ]
          },
          "metadata": {},
          "output_type": "display_data"
        }
      ],
      "source": [
        "DB = client.Project\n",
        "phone_rec = DB.supermart\n",
        "display(phone_rec)"
      ]
    },
    {
      "cell_type": "markdown",
      "metadata": {
        "id": "lxApxBP5MdC8"
      },
      "source": [
        "Adding & Deleting Contact"
      ]
    },
    {
      "cell_type": "code",
      "execution_count": 60,
      "metadata": {
        "id": "shlfrhSgCbQ9"
      },
      "outputs": [],
      "source": [
        "def add_cont(Data):\n",
        "  try:\n",
        "    phone_rec.insert_one(Data)\n",
        "    print(\"Contact added \")\n",
        "  except :\n",
        "    print(\"Contact name already exists\")"
      ]
    },
    {
      "cell_type": "code",
      "execution_count": 61,
      "metadata": {
        "id": "Xib2TSH-BIey"
      },
      "outputs": [],
      "source": [
        "def del_cont(ID):\n",
        "  if  not cont_verify('_id',ID) == False :\n",
        "    myquery = { \"_id\": ID }\n",
        "    phone_rec.delete_one(myquery)\n",
        "  else:\n",
        "    print('Contact Name not Found')"
      ]
    },
    {
      "cell_type": "markdown",
      "metadata": {
        "id": "Lpl8qmLm5puP"
      },
      "source": [
        "Update Phone Number"
      ]
    },
    {
      "cell_type": "code",
      "execution_count": 62,
      "metadata": {
        "id": "vozndgi_8sAb"
      },
      "outputs": [],
      "source": [
        "def Update_Contact(ID,KEY,VALUE):\n",
        "  if cont_verify('_id',ID):\n",
        "    Data = {'_id':'Ranga', 'Phone_No':'+91 9677153077'}\n",
        "    my_query = {'_id': ID}\n",
        "    new_value = {'$set' :{KEY: VALUE} }\n",
        "    phone_rec.update_one(my_query,new_value)\n",
        "    print('Contact Updated Successfully')\n",
        "    Display_Contact('_id',ID)\n",
        "  else:\n",
        "    print('Contact Name not Found')"
      ]
    },
    {
      "cell_type": "markdown",
      "metadata": {
        "id": "E-vndCv65XPe"
      },
      "source": [
        "Searching Contact"
      ]
    },
    {
      "cell_type": "code",
      "execution_count": 63,
      "metadata": {
        "id": "QlMX3IytpwT9"
      },
      "outputs": [],
      "source": [
        "def cont_verify(KEY,VALUE):\n",
        "  Search_data = phone_rec.find_one({KEY : VALUE})\n",
        "  TYPE = str(type(Search_data))\n",
        "  return Search_data if isinstance(Search_data, dict) else False"
      ]
    },
    {
      "cell_type": "markdown",
      "metadata": {},
      "source": [
        "To display different contact names"
      ]
    },
    {
      "cell_type": "code",
      "execution_count": 64,
      "metadata": {
        "id": "JiJfD1BTt8UX"
      },
      "outputs": [],
      "source": [
        "def Display_Contact(KEY,VALUE):\n",
        "  import pandas as pd\n",
        "  if not cont_verify(KEY,VALUE) == False :\n",
        "    Search_data = phone_rec.find_one({KEY : VALUE})\n",
        "    Contact_DF = pd.DataFrame(Search_data,columns= ['_id','Phone_No','Mail_ID'],index=[1])\n",
        "    Contact_DF.rename(columns = {'_id' : 'Contact Name'}, inplace = True)\n",
        "    display(Contact_DF)\n",
        "  else :\n",
        "    print('Contact Name not Found')"
      ]
    },
    {
      "cell_type": "markdown",
      "metadata": {},
      "source": [
        "To check for a valid number"
      ]
    },
    {
      "cell_type": "code",
      "execution_count": 65,
      "metadata": {
        "id": "38tqmwjLBvsE"
      },
      "outputs": [],
      "source": [
        "def valid_num(Phone_Num):\n",
        "  import re\n",
        "  Pattern = \"[+91]+\\s\\d{10}\"\n",
        "  return bool(re.match(Pattern,Phone_Num))"
      ]
    },
    {
      "cell_type": "markdown",
      "metadata": {},
      "source": [
        "To check for a valid emailID"
      ]
    },
    {
      "cell_type": "code",
      "execution_count": 66,
      "metadata": {
        "id": "4dtzT1qI1ihb"
      },
      "outputs": [],
      "source": [
        "def Validate_User(MailID):\n",
        "    import re\n",
        "    pattern = r'\\b[A-Za-z][A-Za-z0-9._%+-]+@[A-Za-z]+\\.[A-Z|a-z]{2,}\\b'\n",
        "    return bool(re.fullmatch(pattern, MailID))\n"
      ]
    },
    {
      "cell_type": "markdown",
      "metadata": {},
      "source": [
        "TO display all the records"
      ]
    },
    {
      "cell_type": "code",
      "execution_count": 67,
      "metadata": {
        "id": "LoPPYwN-2Upf"
      },
      "outputs": [],
      "source": [
        "def Show_All_Contacts():\n",
        "  PhoneBook_Dict = {'Name': [],'Phone_no':[],'Mail':[]}\n",
        "  Record_Keys = ['_id', 'Phone_No','Mail_ID']\n",
        "  PhoneBook_Keys = PhoneBook_Dict.keys()\n",
        "  for rec in phone_rec.find({}):\n",
        "    # print (rec)\n",
        "    # print(rec.keys())\n",
        "    for K,L in zip(Record_Keys,PhoneBook_Keys):\n",
        "      try:\n",
        "        PhoneBook_Dict[L].append(rec[K])\n",
        "      except:\n",
        "        PhoneBook_Dict[L].append('NA')\n",
        "  import pandas as pd\n",
        "  PhoneBook_DF = pd.DataFrame(PhoneBook_Dict)\n",
        "  PhoneBook_DF.index = PhoneBook_DF.index + 1\n",
        "  display(PhoneBook_DF)"
      ]
    },
    {
      "cell_type": "markdown",
      "metadata": {},
      "source": [
        "The code which calls in all the different functions."
      ]
    },
    {
      "cell_type": "code",
      "execution_count": 68,
      "metadata": {
        "colab": {
          "base_uri": "https://localhost:8080/",
          "height": 161
        },
        "id": "178Z1Zw9E3_U",
        "outputId": "aae5d3a0-e1d9-4b95-fee6-b6a2bd265e8e"
      },
      "outputs": [
        {
          "data": {
            "text/html": [
              "<div>\n",
              "<style scoped>\n",
              "    .dataframe tbody tr th:only-of-type {\n",
              "        vertical-align: middle;\n",
              "    }\n",
              "\n",
              "    .dataframe tbody tr th {\n",
              "        vertical-align: top;\n",
              "    }\n",
              "\n",
              "    .dataframe thead th {\n",
              "        text-align: right;\n",
              "    }\n",
              "</style>\n",
              "<table border=\"1\" class=\"dataframe\">\n",
              "  <thead>\n",
              "    <tr style=\"text-align: right;\">\n",
              "      <th></th>\n",
              "      <th>Name</th>\n",
              "      <th>Phone_no</th>\n",
              "      <th>Mail</th>\n",
              "    </tr>\n",
              "  </thead>\n",
              "  <tbody>\n",
              "    <tr>\n",
              "      <th>1</th>\n",
              "      <td>dj</td>\n",
              "      <td>+91 9999955555</td>\n",
              "      <td>dj12345@gmail.com</td>\n",
              "    </tr>\n",
              "  </tbody>\n",
              "</table>\n",
              "</div>"
            ],
            "text/plain": [
              "  Name        Phone_no               Mail\n",
              "1   dj  +91 9999955555  dj12345@gmail.com"
            ]
          },
          "metadata": {},
          "output_type": "display_data"
        }
      ],
      "source": [
        "Purpose = input(\"Enter 1/2/3/4/5 to Create/Search/Update/Delete/Display_All Contacts: \")\n",
        "#Create Contact\n",
        "if Purpose == \"1\":\n",
        "  Contact_Name = input(\"Enter contact name: \")\n",
        "  NUM = input(\"Enter mobile number in the format +91 XXXXXXXXX : \")\n",
        "  Mail = input(\"Enter mailID: \")\n",
        "  Data = {'_id': Contact_Name, 'Phone_No':NUM,'Mail_ID':Mail }\n",
        "  if valid_num(Data['Phone_No']) :\n",
        "    if Validate_User(Data['Mail_ID']) :\n",
        "      add_cont(Data)\n",
        "    else:\n",
        "      print(\"Enter valid email ID\")\n",
        "  else:\n",
        "    print(\"Enter valid mobile No\")\n",
        "# Search\n",
        "elif Purpose == \"2\":\n",
        "  Search_KEY = input(\"Enter Name to search by name or Enter Number to search by number ): \")\n",
        "  VALUE =    input(f\"Enter contact {Search_KEY}: \")\n",
        "  if Search_KEY == \"Name\":\n",
        "    KEY = \"_id\"\n",
        "    Display_Contact(KEY,VALUE)\n",
        "  elif Search_KEY ==\"Number\":\n",
        "     KEY = \"Phone_No\"\n",
        "     Display_Contact(KEY,VALUE)\n",
        "  else :\n",
        "    print (\"Enter valid option\")\n",
        "# Update\n",
        "elif Purpose == \"3\":\n",
        "  Contact_Name = input(\"Enter contact name: \")\n",
        "  Search_KEY = input(\"Update mail or number ?: \")\n",
        "  Value =    input(f\"Enter contact {Search_KEY}: \")\n",
        "  if Search_KEY == \"mail\":\n",
        "    KEY = \"Mail_ID\"\n",
        "    Update_Contact(Contact_Name,KEY,Value)\n",
        "  elif Search_KEY == \"number\":\n",
        "     KEY = \"Phone_No\"\n",
        "     Update_Contact(Contact_Name,KEY,Value)\n",
        "  else :\n",
        "    print (\"Enter valid option\")\n",
        "#Delete\n",
        "elif Purpose == \"4\":\n",
        "  Contact_Name = input(\"Enter contact name: \")\n",
        "  del_cont(Contact_Name)\n",
        "#Display all contents of the phonebook.\n",
        "elif Purpose == \"5\":\n",
        "  Show_All_Contacts()\n",
        "else:\n",
        "  print(\"Enter valid entry\")"
      ]
    }
  ],
  "metadata": {
    "colab": {
      "authorship_tag": "ABX9TyMcrLJOG3xNjIOjBNemW+wS",
      "collapsed_sections": [],
      "include_colab_link": true,
      "name": "Assignment_2 Phonebook using MongoDB & Pandas.ipynb",
      "provenance": []
    },
    "kernelspec": {
      "display_name": "Python 3.10.8 64-bit (microsoft store)",
      "language": "python",
      "name": "python3"
    },
    "language_info": {
      "codemirror_mode": {
        "name": "ipython",
        "version": 3
      },
      "file_extension": ".py",
      "mimetype": "text/x-python",
      "name": "python",
      "nbconvert_exporter": "python",
      "pygments_lexer": "ipython3",
      "version": "3.10.8"
    },
    "vscode": {
      "interpreter": {
        "hash": "78205b1b5f87c79fbdc796b1d90a9b4c2b4e460cd0193ed573d48cc3cc88d394"
      }
    }
  },
  "nbformat": 4,
  "nbformat_minor": 0
}
